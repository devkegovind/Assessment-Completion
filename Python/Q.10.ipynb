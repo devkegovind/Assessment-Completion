{
 "cells": [
  {
   "attachments": {},
   "cell_type": "markdown",
   "metadata": {},
   "source": [
    "**Q.10 Write a program to count the number of verbs, nouns, pronouns, and adjectives in a given particular phrase or paragraph, and return their respective count as a dictionary.**\n",
    "\n",
    "Note -\n",
    "1. Write code comments wherever required for code\n",
    "2. You have to write at least 2 additional test cases in which your program will run successfully and provide\n",
    "an explanation for the same"
   ]
  },
  {
   "cell_type": "code",
   "execution_count": 2,
   "metadata": {},
   "outputs": [
    {
     "name": "stderr",
     "output_type": "stream",
     "text": [
      "[nltk_data] Downloading package punkt to C:\\Users\\Neeta\n",
      "[nltk_data]     Devke\\AppData\\Roaming\\nltk_data...\n",
      "[nltk_data]   Unzipping tokenizers\\punkt.zip.\n"
     ]
    },
    {
     "data": {
      "text/plain": [
       "True"
      ]
     },
     "execution_count": 2,
     "metadata": {},
     "output_type": "execute_result"
    }
   ],
   "source": [
    "import nltk\n",
    "nltk.download('punkt')"
   ]
  },
  {
   "cell_type": "code",
   "execution_count": 4,
   "metadata": {},
   "outputs": [
    {
     "name": "stderr",
     "output_type": "stream",
     "text": [
      "[nltk_data] Downloading package averaged_perceptron_tagger to\n",
      "[nltk_data]     C:\\Users\\Neeta Devke\\AppData\\Roaming\\nltk_data...\n",
      "[nltk_data]   Unzipping taggers\\averaged_perceptron_tagger.zip.\n"
     ]
    },
    {
     "data": {
      "text/plain": [
       "True"
      ]
     },
     "execution_count": 4,
     "metadata": {},
     "output_type": "execute_result"
    }
   ],
   "source": [
    " nltk.download('averaged_perceptron_tagger')"
   ]
  },
  {
   "cell_type": "code",
   "execution_count": 5,
   "metadata": {},
   "outputs": [
    {
     "name": "stdout",
     "output_type": "stream",
     "text": [
      "{'Verbs': 3, 'Nouns': 1, 'Pronouns': 3, 'Adjectives': 2}\n"
     ]
    }
   ],
   "source": [
    "import nltk\n",
    "from nltk.tokenize import word_tokenize, sent_tokenize\n",
    "from nltk.corpus import stopwords\n",
    "from nltk.tag import pos_tag\n",
    "\n",
    "def count_pos_tags(text):\n",
    "    # Tokenize the text into sentences\n",
    "    sentences = sent_tokenize(text)\n",
    "\n",
    "    # Initialize counts for verbs, nouns, pronouns, and adjectives\n",
    "    verb_count = 0\n",
    "    noun_count = 0\n",
    "    pronoun_count = 0\n",
    "    adjective_count = 0\n",
    "\n",
    "    # Iterate over each sentence\n",
    "    for sentence in sentences:\n",
    "        # Tokenize the sentence into words\n",
    "        words = word_tokenize(sentence)\n",
    "\n",
    "        # Perform part-of-speech tagging on the words\n",
    "        tagged_words = pos_tag(words)\n",
    "\n",
    "        # Iterate over each tagged word\n",
    "        for word, tag in tagged_words:\n",
    "            # Check the part-of-speech tag and increment the respective count\n",
    "            if tag.startswith('VB'):  # Verb\n",
    "                verb_count += 1\n",
    "            elif tag.startswith('NN'):  # Noun\n",
    "                noun_count += 1\n",
    "            elif tag.startswith('PRP'):  # Pronoun\n",
    "                pronoun_count += 1\n",
    "            elif tag.startswith('JJ'):  # Adjective\n",
    "                adjective_count += 1\n",
    "\n",
    "    # Create a dictionary with the counts\n",
    "    pos_counts = {\n",
    "        'Verbs': verb_count,\n",
    "        'Nouns': noun_count,\n",
    "        'Pronouns': pronoun_count,\n",
    "        'Adjectives': adjective_count\n",
    "    }\n",
    "\n",
    "    return pos_counts\n",
    "\n",
    "# Test the function with a sample phrase\n",
    "sample_phrase = \"I love eating delicious food. It makes me happy.\"\n",
    "counts = count_pos_tags(sample_phrase)\n",
    "print(counts)"
   ]
  },
  {
   "attachments": {},
   "cell_type": "markdown",
   "metadata": {},
   "source": [
    "**Additional Test Cases:**\n",
    "\n",
    "1. Test Case: \"The cat jumped over the lazy dog.\""
   ]
  },
  {
   "cell_type": "code",
   "execution_count": 7,
   "metadata": {},
   "outputs": [
    {
     "data": {
      "text/plain": [
       "{'Verbs': 1, 'Nouns': 2, 'Pronouns': 0, 'Adjectives': 1}"
      ]
     },
     "execution_count": 7,
     "metadata": {},
     "output_type": "execute_result"
    }
   ],
   "source": [
    "test_case = \"The cat jumped over the lazy dog.\"\n",
    "counts1 = count_pos_tags(test_case)\n",
    "counts1"
   ]
  },
  {
   "attachments": {},
   "cell_type": "markdown",
   "metadata": {},
   "source": [
    "*Explanation:* This sentence contains 1 verb (\"jumped\"), 2 nouns (\"cat\" and \"dog\"), 0 pronouns, and 0 adjectives. The expected output should be: {'Verbs': 1, 'Nouns': 2, 'Pronouns': 0, 'Adjectives': 0}."
   ]
  },
  {
   "attachments": {},
   "cell_type": "markdown",
   "metadata": {},
   "source": [
    "2. Test Case: \"She is reading an interesting book about history.\""
   ]
  },
  {
   "cell_type": "code",
   "execution_count": 8,
   "metadata": {},
   "outputs": [
    {
     "data": {
      "text/plain": [
       "{'Verbs': 2, 'Nouns': 2, 'Pronouns': 1, 'Adjectives': 1}"
      ]
     },
     "execution_count": 8,
     "metadata": {},
     "output_type": "execute_result"
    }
   ],
   "source": [
    "test_case2 = \"She is reading an interesting book about history.\"\n",
    "counts2 = count_pos_tags(test_case2)\n",
    "counts2"
   ]
  },
  {
   "attachments": {},
   "cell_type": "markdown",
   "metadata": {},
   "source": [
    "*Explanation:*\n",
    "This sentence contains 1 verb (\"reading\"), 2 nouns (\"She\" and \"book\"), 1 pronoun (\"She\"), and 1 adjective (\"interesting\"). The expected output should be: {'Verbs': 1, 'Nouns': 2, 'Pronouns': 1, 'Adjectives': 1}."
   ]
  }
 ],
 "metadata": {
  "kernelspec": {
   "display_name": "Python 3",
   "language": "python",
   "name": "python3"
  },
  "language_info": {
   "codemirror_mode": {
    "name": "ipython",
    "version": 3
   },
   "file_extension": ".py",
   "mimetype": "text/x-python",
   "name": "python",
   "nbconvert_exporter": "python",
   "pygments_lexer": "ipython3",
   "version": "3.10.0"
  },
  "orig_nbformat": 4
 },
 "nbformat": 4,
 "nbformat_minor": 2
}
